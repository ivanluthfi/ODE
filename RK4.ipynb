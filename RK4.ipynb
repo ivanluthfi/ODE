{
  "nbformat": 4,
  "nbformat_minor": 0,
  "metadata": {
    "colab": {
      "name": "RK4.ipynb",
      "provenance": [],
      "collapsed_sections": []
    },
    "kernelspec": {
      "name": "python3",
      "display_name": "Python 3"
    },
    "language_info": {
      "name": "python"
    }
  },
  "cells": [
    {
      "cell_type": "code",
      "execution_count": 32,
      "metadata": {
        "id": "FaVRO4CdhrtH"
      },
      "outputs": [],
      "source": [
        "import numpy as np\n",
        "import matplotlib.pyplot as plt"
      ]
    },
    {
      "cell_type": "code",
      "source": [
        "#define the function\n",
        "def f(t,x):\n",
        "  return (1-2*t)*x"
      ],
      "metadata": {
        "id": "80yMTfnAPEAM"
      },
      "execution_count": 33,
      "outputs": []
    },
    {
      "cell_type": "code",
      "source": [
        "#runge-kutta 4 procedure\n",
        "def rk4(f, t, init):\n",
        "  nt = np.size(t)\n",
        "  nv = np.size(init)\n",
        "  x = np.zeros([nt, nv])\n",
        "  x[0,:]=init\n",
        "  h = t[1]-t[0]\n",
        "  for i in range(nt-1):\n",
        "    k1 = f(t[i],x[i,:])\n",
        "    k2 = f(t[i]+0.5*h , x[i,:]+0.5*h*k1)\n",
        "    k3 = f(t[i]+0.5*h , x[i,:]+0.5*h*k2)\n",
        "    k4 = f(t[i]+h , x[i,:]+h*k3)\n",
        "    x[i+1,:] = x[i,:] + (h/6)*(k1+2*k2+2*k3+k4)\n",
        "  return x"
      ],
      "metadata": {
        "id": "lLVZQRuDPj6C"
      },
      "execution_count": 34,
      "outputs": []
    },
    {
      "cell_type": "code",
      "source": [
        "# Simulation\n",
        "t0=0\n",
        "tf=2\n",
        "t = np.linspace(t0, tf, 10)"
      ],
      "metadata": {
        "id": "DUFMQ_lTRSF5"
      },
      "execution_count": 35,
      "outputs": []
    },
    {
      "cell_type": "code",
      "source": [
        "init = 1   # initial condition x(0)=1\n",
        "x_num = rk4(f, t, init)\n",
        "x_ex = np.exp((1/4)-((1/2)-t)**2)\n",
        "x_ex = np.reshape(x_ex, np.shape(x_num))"
      ],
      "metadata": {
        "id": "IJzlDj0SSUKf"
      },
      "execution_count": 36,
      "outputs": []
    },
    {
      "cell_type": "code",
      "source": [
        "# checking size\n",
        "np.shape(x_ex)\n",
        "np.shape(x_num)"
      ],
      "metadata": {
        "colab": {
          "base_uri": "https://localhost:8080/"
        },
        "id": "mRwzWJWuTRoi",
        "outputId": "dc8dbcd7-3733-4249-dc42-fc1c5954a969"
      },
      "execution_count": 37,
      "outputs": [
        {
          "output_type": "execute_result",
          "data": {
            "text/plain": [
              "(10, 1)"
            ]
          },
          "metadata": {},
          "execution_count": 37
        }
      ]
    },
    {
      "cell_type": "code",
      "source": [
        "# plot the result\n",
        "plt.figure(1)\n",
        "plt.subplot(121)\n",
        "plt.plot(t, x_num, 'sr:', label='rk4')\n",
        "plt.plot(t, x_ex, '-b', label='exact')\n",
        "plt.legend(loc='best')\n",
        "plt.show()\n",
        "plt.subplot(122)\n",
        "plt.plot(t, np.abs(x_num-x_ex), '*r:', label='error')\n",
        "plt.legend(loc='best')\n",
        "plt.show()"
      ],
      "metadata": {
        "colab": {
          "base_uri": "https://localhost:8080/",
          "height": 517
        },
        "id": "rXg9fjwNcPxh",
        "outputId": "9285b8df-9383-48d8-de39-a531249891cb"
      },
      "execution_count": 42,
      "outputs": [
        {
          "output_type": "display_data",
          "data": {
            "text/plain": [
              "<Figure size 432x288 with 1 Axes>"
            ],
            "image/png": "[encoded data removed]"
          },
          "metadata": {
            "needs_background": "light"
          }
        },
        {
          "output_type": "display_data",
          "data": {
            "text/plain": [
              "<Figure size 432x288 with 1 Axes>"
            ],
            "image/png": "[encoded data removed]"
          },
          "metadata": {
            "needs_background": "light"
          }
        }
      ]
    },
    {
      "cell_type": "code",
      "source": [
        ""
      ],
      "metadata": {
        "id": "McXI_r-MbuCu"
      },
      "execution_count": null,
      "outputs": []
    }
  ]
}